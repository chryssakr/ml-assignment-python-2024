{
 "cells": [
  {
   "cell_type": "markdown",
   "id": "a0b4dd14",
   "metadata": {},
   "source": [
    "# Μέρος Δ\n",
    "Ταξινόμηση με Random Forest\n",
    "Εκπαιδεύουμε τον ταξινομητή με το training set datasetTV.csv και στη συνέχεια εφαρμόζουμε τον αλγόριθμο ταξινόμησης στα δεδομένα datasetTest.csv."
   ]
  },
  {
   "cell_type": "markdown",
   "id": "ff49ffa3",
   "metadata": {},
   "source": [
    "## 1. Φόρτωση και προεπεξεργασία των δεδομένων\n",
    "- Φορτώνουμε το training dataset (`datasetTV.csv`) και το χωρίζουμε σε features και labels.\n",
    "- Φορτώνουμε το test dataset (`datasetTest.csv`).\n",
    "- Ελέγχουμε ότι τα ονόματα των στηλών στο test dataset ταιριάζουν με τα features του training dataset.\n",
    "- Κανονικοποιούμε τα δεδομένα με τη μέθοδο `StandardScaler`."
   ]
  },
  {
   "cell_type": "code",
   "execution_count": 2,
   "id": "a7685af9",
   "metadata": {},
   "outputs": [],
   "source": [
    "\n",
    "# Import necessary libraries\n",
    "import pandas as pd\n",
    "import numpy as np\n",
    "from sklearn.preprocessing import StandardScaler\n",
    "\n",
    "# Load datasets\n",
    "dataset_tv_path = \"datasetTV.csv\"\n",
    "dataset_test_path = \"datasetTest.csv\"\n",
    "\n",
    "train_data = pd.read_csv(dataset_tv_path)\n",
    "test_data = pd.read_csv(dataset_test_path)\n",
    "\n",
    "# Split into features and labels\n",
    "X_train = train_data.iloc[:, :-1]  # All features except the last column\n",
    "y_train = train_data.iloc[:, -1]   # Last column as the label\n",
    "\n",
    "# Rename columns of test data to match training data\n",
    "X_test = test_data\n",
    "X_test.columns = X_train.columns\n",
    "\n",
    "# Normalize the data\n",
    "scaler = StandardScaler()\n",
    "X_train_scaled = scaler.fit_transform(X_train)\n",
    "X_test_scaled = scaler.transform(X_test)\n"
   ]
  },
  {
   "cell_type": "markdown",
   "id": "6028b377",
   "metadata": {},
   "source": [
    "## 2. Εκπαίδευση του εκτιμητή με τη μέθοδο Random Forest\n",
    "Εκπαιδεύουμε τον ταξινομητή `RandomForestClassifier` χρησιμοποιώντας hyperparameter tuning με τη μέθοδο `GridSearchCV` που θα επιλέξει τις καλύτερες hyperparameters.\n",
    "Αξιολογούμε την απόοδση του μοντέλου για κάθε συνδυασμό με cross-validation και επιλέγουμε το καλύτερο μοντέλο."
   ]
  },
  {
   "cell_type": "code",
   "execution_count": 3,
   "id": "91e3d521",
   "metadata": {},
   "outputs": [
    {
     "name": "stdout",
     "output_type": "stream",
     "text": [
      "Best Parameters: {'max_depth': 30, 'min_samples_split': 2, 'n_estimators': 150}\n",
      "Training Accuracy: 1.0000\n"
     ]
    }
   ],
   "source": [
    "\n",
    "from sklearn.ensemble import RandomForestClassifier\n",
    "from sklearn.model_selection import GridSearchCV\n",
    "from sklearn.metrics import accuracy_score\n",
    "\n",
    "# Train a Random Forest Classifier with hyperparameter tuning\n",
    "rf_clf = RandomForestClassifier(random_state=42)\n",
    "params = {\n",
    "    'n_estimators': [50, 100, 150],\n",
    "    'max_depth': [10, 20, 30],\n",
    "    'min_samples_split': [2, 5, 10]\n",
    "}\n",
    "\n",
    "grid_search = GridSearchCV(rf_clf, params, cv=3, scoring='accuracy', n_jobs=-1)\n",
    "grid_search.fit(X_train_scaled, y_train)\n",
    "\n",
    "# Best model\n",
    "best_rf = grid_search.best_estimator_\n",
    "print(\"Best Parameters:\", grid_search.best_params_)\n",
    "\n",
    "# Evaluate on the training data\n",
    "y_train_pred = best_rf.predict(X_train_scaled)\n",
    "train_accuracy = accuracy_score(y_train, y_train_pred)\n",
    "print(f\"Training Accuracy: {train_accuracy:.4f}\")\n"
   ]
  },
  {
   "cell_type": "markdown",
   "id": "821f535d",
   "metadata": {},
   "source": [
    "## 3. Προβλέψεις στο Test Set\n",
    "Έχοντας εκπαιδεύσει το μοντέλο, προβλέπουμε τα labels για το test dataset και σώζουμε τις προβλέψεις σε ένα NumPy array."
   ]
  },
  {
   "cell_type": "code",
   "execution_count": 6,
   "id": "3e4ae927",
   "metadata": {},
   "outputs": [
    {
     "name": "stdout",
     "output_type": "stream",
     "text": [
      "Predictions saved to labels68.npy\n"
     ]
    },
    {
     "data": {
      "text/plain": [
       "array([4, 5, 2, ..., 3, 4, 1], shape=(6954,))"
      ]
     },
     "execution_count": 6,
     "metadata": {},
     "output_type": "execute_result"
    }
   ],
   "source": [
    "\n",
    "# Predict on the test set\n",
    "y_test_pred = best_rf.predict(X_test_scaled)\n",
    "\n",
    "# Save predictions to a numpy file\n",
    "output_path = \"labels68.npy\"\n",
    "np.save(output_path, y_test_pred)\n",
    "\n",
    "print(f\"Predictions saved to {output_path}\")\n",
    "np.load('labels68.npy')"
   ]
  }
 ],
 "metadata": {
  "kernelspec": {
   "display_name": ".venv",
   "language": "python",
   "name": "python3"
  },
  "language_info": {
   "codemirror_mode": {
    "name": "ipython",
    "version": 3
   },
   "file_extension": ".py",
   "mimetype": "text/x-python",
   "name": "python",
   "nbconvert_exporter": "python",
   "pygments_lexer": "ipython3",
   "version": "3.12.2"
  }
 },
 "nbformat": 4,
 "nbformat_minor": 5
}
