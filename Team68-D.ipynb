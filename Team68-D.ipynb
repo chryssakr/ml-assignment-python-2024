{
 "cells": [
  {
   "cell_type": "markdown",
   "id": "a0b4dd14",
   "metadata": {},
   "source": [
    "# Part D: Classification with Random Forest\n",
    "This notebook addresses Part D of the assignment step by step.\n",
    "The goal is to train a classification model using the provided training dataset (`datasetTV.csv`) and apply it to predict labels for the test dataset (`datasetTest.csv`)."
   ]
  },
  {
   "cell_type": "markdown",
   "id": "ff49ffa3",
   "metadata": {},
   "source": [
    "## 1. Load and Preprocess the Data\n",
    "We will:\n",
    "- Load the training dataset (`datasetTV.csv`) and split it into features and labels.\n",
    "- Load the test dataset (`datasetTest.csv`).\n",
    "- Ensure the column names of the test dataset match the training dataset's feature names.\n",
    "- Normalize the data using `StandardScaler`."
   ]
  },
  {
   "cell_type": "code",
   "execution_count": null,
   "id": "a7685af9",
   "metadata": {},
   "outputs": [],
   "source": [
    "\n",
    "# Import necessary libraries\n",
    "import pandas as pd\n",
    "import numpy as np\n",
    "from sklearn.preprocessing import StandardScaler\n",
    "\n",
    "# Load datasets\n",
    "dataset_tv_path = \"datasetTV.csv\"\n",
    "dataset_test_path = \"datasetTest.csv\"\n",
    "\n",
    "train_data = pd.read_csv(dataset_tv_path)\n",
    "test_data = pd.read_csv(dataset_test_path)\n",
    "\n",
    "# Split into features and labels\n",
    "X_train = train_data.iloc[:, :-1]  # All features except the last column\n",
    "y_train = train_data.iloc[:, -1]   # Last column as the label\n",
    "\n",
    "# Rename columns of test data to match training data\n",
    "X_test = test_data\n",
    "X_test.columns = X_train.columns\n",
    "\n",
    "# Normalize the data\n",
    "scaler = StandardScaler()\n",
    "X_train_scaled = scaler.fit_transform(X_train)\n",
    "X_test_scaled = scaler.transform(X_test)\n"
   ]
  },
  {
   "cell_type": "markdown",
   "id": "6028b377",
   "metadata": {},
   "source": [
    "## 2. Train a Random Forest Classifier\n",
    "We will train a `RandomForestClassifier` using hyperparameter tuning via `GridSearchCV`.\n",
    "The best model will be selected based on cross-validation accuracy."
   ]
  },
  {
   "cell_type": "code",
   "execution_count": null,
   "id": "91e3d521",
   "metadata": {},
   "outputs": [],
   "source": [
    "\n",
    "from sklearn.ensemble import RandomForestClassifier\n",
    "from sklearn.model_selection import GridSearchCV\n",
    "from sklearn.metrics import accuracy_score\n",
    "\n",
    "# Train a Random Forest Classifier with hyperparameter tuning\n",
    "rf_clf = RandomForestClassifier(random_state=42)\n",
    "params = {\n",
    "    'n_estimators': [50, 100, 150],\n",
    "    'max_depth': [10, 20, 30],\n",
    "    'min_samples_split': [2, 5, 10]\n",
    "}\n",
    "\n",
    "grid_search = GridSearchCV(rf_clf, params, cv=3, scoring='accuracy', n_jobs=-1)\n",
    "grid_search.fit(X_train_scaled, y_train)\n",
    "\n",
    "# Best model\n",
    "best_rf = grid_search.best_estimator_\n",
    "print(\"Best Parameters:\", grid_search.best_params_)\n",
    "\n",
    "# Evaluate on the training data\n",
    "y_train_pred = best_rf.predict(X_train_scaled)\n",
    "train_accuracy = accuracy_score(y_train, y_train_pred)\n",
    "print(f\"Training Accuracy: {train_accuracy:.4f}\")\n"
   ]
  },
  {
   "cell_type": "markdown",
   "id": "821f535d",
   "metadata": {},
   "source": [
    "## 3. Predict on the Test Set\n",
    "Using the trained model, we predict the labels for the test dataset and save the predictions as a NumPy array."
   ]
  },
  {
   "cell_type": "code",
   "execution_count": null,
   "id": "3e4ae927",
   "metadata": {},
   "outputs": [],
   "source": [
    "\n",
    "# Predict on the test set\n",
    "y_test_pred = best_rf.predict(X_test_scaled)\n",
    "\n",
    "# Save predictions to a numpy file\n",
    "output_path = \"labelsX.npy\"\n",
    "np.save(output_path, y_test_pred)\n",
    "\n",
    "print(f\"Predictions saved to {output_path}\")\n"
   ]
  },
  {
   "cell_type": "markdown",
   "id": "a592d6de",
   "metadata": {},
   "source": [
    "## Observations\n",
    "- The model was trained using a Random Forest with hyperparameter tuning.\n",
    "- The predictions for the test dataset were saved in NumPy format (`labelsX.npy`).\n",
    "- This notebook ensures consistency and reproducibility for Part D of the assignment."
   ]
  }
 ],
 "metadata": {
  "language_info": {
   "name": "python"
  }
 },
 "nbformat": 4,
 "nbformat_minor": 5
}
